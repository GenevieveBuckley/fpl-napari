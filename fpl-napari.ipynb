{
 "cells": [
  {
   "cell_type": "markdown",
   "id": "c4c7d6f4-c4ec-4f5e-8088-b20016f2d168",
   "metadata": {},
   "source": [
    "## Prototype for `napari` in a web-browser using `fastplotlib` as the front-end"
   ]
  },
  {
   "cell_type": "code",
   "execution_count": 1,
   "id": "3c1bf8f4-4f96-4fce-a8ff-6d4b20186aa0",
   "metadata": {
    "tags": []
   },
   "outputs": [],
   "source": [
    "import fastplotlib as fpl\n",
    "import napari\n",
    "import numpy as np\n",
    "import imageio.v3 as iio\n",
    "from ipywidgets import IntSlider, VBox\n",
    "from functools import partial"
   ]
  },
  {
   "cell_type": "markdown",
   "id": "f2911f2f-5c30-4b28-84dc-fcf3724e04fb",
   "metadata": {},
   "source": [
    "### Create a 2D image in `napari` and view in `fastplotlib`"
   ]
  },
  {
   "cell_type": "code",
   "execution_count": 2,
   "id": "4f26aea9-0dc9-4641-84f8-5222d004196a",
   "metadata": {
    "tags": []
   },
   "outputs": [],
   "source": [
    "data = iio.imread('imageio:camera.png')"
   ]
  },
  {
   "cell_type": "code",
   "execution_count": 3,
   "id": "b40145d7-b2dc-47bc-b297-ea594e6dcea3",
   "metadata": {
    "tags": []
   },
   "outputs": [],
   "source": [
    "napari_img = napari.layers.Image(data=data)"
   ]
  },
  {
   "cell_type": "code",
   "execution_count": 4,
   "id": "bf44479f-7838-4748-b23f-b3256775143b",
   "metadata": {
    "tags": []
   },
   "outputs": [
    {
     "data": {
      "text/plain": [
       "[0, 255]"
      ]
     },
     "execution_count": 4,
     "metadata": {},
     "output_type": "execute_result"
    }
   ],
   "source": [
    "napari_img.contrast_limits"
   ]
  },
  {
   "cell_type": "markdown",
   "id": "f1590a5e-c20e-4377-8c3a-fe66cac44a83",
   "metadata": {},
   "source": [
    "#### Simple `napari` 2D image_wrapper using `fastplotlib`"
   ]
  },
  {
   "cell_type": "code",
   "execution_count": 5,
   "id": "aff73246-15e1-499d-a8c3-03ce7dc1199c",
   "metadata": {
    "tags": []
   },
   "outputs": [],
   "source": [
    "def image_wrapper(image: napari.layers.Image) -> fpl.graphics.ImageGraphic:\n",
    "    \"\"\"Return fastplotlib ImageGraphic based on napari Image layer.\n",
    "    \n",
    "    Parameters\n",
    "    ==========\n",
    "    image: napari.layers.Image\n",
    "        napari Image layer to wrap\n",
    "    \n",
    "    Returns\n",
    "    =======\n",
    "    fpl.graphics.ImageGraphic\n",
    "    \"\"\"\n",
    "    image_graphic = fpl.graphics.ImageGraphic(data=image.data, \n",
    "                        name=image.name, \n",
    "                        metadata=image.metadata,\n",
    "                        cmap=image.colormap.name,\n",
    "                        vmin=image.contrast_limits[0],\n",
    "                        vmax=image.contrast_limits[1]\n",
    "                       )\n",
    "    \n",
    "    # event handler to update contrast limits\n",
    "    def update_vmin_vmax(ev):\n",
    "        image_graphic.cmap.vmin, image_graphic.cmap.vmax = ev.source.contrast_limits\n",
    "    \n",
    "    # link napari contrast limits to update fpl plot\n",
    "    image.events.contrast_limits.connect(update_vmin_vmax)\n",
    "    \n",
    "    return image_graphic"
   ]
  },
  {
   "cell_type": "code",
   "execution_count": 6,
   "id": "eba5fc02-286d-424b-ad04-f97c6705f0e9",
   "metadata": {
    "tags": []
   },
   "outputs": [
    {
     "data": {
      "application/vnd.jupyter.widget-view+json": {
       "model_id": "9cff3d47f28c4d8cbbf0c153393d6aa1",
       "version_major": 2,
       "version_minor": 0
      },
      "text/plain": [
       "RFBOutputContext()"
      ]
     },
     "metadata": {},
     "output_type": "display_data"
    },
    {
     "data": {
      "application/vnd.jupyter.widget-view+json": {
       "model_id": "2435852ee0924c6da6602bbd946df0d0",
       "version_major": 2,
       "version_minor": 0
      },
      "text/plain": [
       "VBox(children=(JupyterWgpuCanvas(), HBox(children=(Button(icon='expand-arrows-alt', layout=Layout(width='auto'…"
      ]
     },
     "execution_count": 6,
     "metadata": {},
     "output_type": "execute_result"
    }
   ],
   "source": [
    "# create fastplotlib plot instance\n",
    "plot = fpl.Plot()\n",
    "\n",
    "# wrap napari image\n",
    "fpl_img = image_wrapper(image=napari_img)\n",
    "\n",
    "# add wrapped image to plot \n",
    "plot.add_graphic(fpl_img)\n",
    "\n",
    "# view plot \n",
    "plot.show()"
   ]
  },
  {
   "cell_type": "code",
   "execution_count": 7,
   "id": "b5696cc5-c1ef-411e-8122-af415da53a3e",
   "metadata": {
    "tags": []
   },
   "outputs": [],
   "source": [
    "# flip image\n",
    "plot.camera.world.scale_y *= -1"
   ]
  },
  {
   "cell_type": "markdown",
   "id": "a9944023-159e-4297-92cc-468615c68f00",
   "metadata": {},
   "source": [
    "#### Update contrast limits of `napari` image"
   ]
  },
  {
   "cell_type": "code",
   "execution_count": 8,
   "id": "c05752c3-8cdd-4c77-b38c-c52fbad57238",
   "metadata": {
    "tags": []
   },
   "outputs": [],
   "source": [
    "napari_img.contrast_limits = (10, 200)"
   ]
  },
  {
   "cell_type": "markdown",
   "id": "134490b0-ecca-4f58-aa96-06aaa47b48f8",
   "metadata": {},
   "source": [
    "### Create `fastplotlib` viewer that wraps `napari` viewer"
   ]
  },
  {
   "cell_type": "code",
   "execution_count": 9,
   "id": "c46b0478-47ea-4a7f-b486-ebb0572319bd",
   "metadata": {
    "tags": []
   },
   "outputs": [],
   "source": [
    "class FplViewer(napari.components.ViewerModel):\n",
    "    # napari uses pydantic, so must declare subclass specific attributes here\n",
    "    plot: fpl.Plot = None\n",
    "    sliders: list = None\n",
    "    def __init__(\n",
    "                self,\n",
    "                *args,\n",
    "                **kwargs):\n",
    "        \"\"\"\n",
    "        Fastplotlib view wrapper to act as napari front-end viewer. Wraps the \n",
    "        napari ViewerModel class. \n",
    "        \"\"\"\n",
    "        super().__init__(**kwargs)\n",
    "        \n",
    "        self.plot = fpl.Plot()\n",
    "        self.sliders = list()\n",
    "        \n",
    "        # connect inserting/removing layers to update fpl viewer\n",
    "        self._connect_layer_events()\n",
    "    \n",
    "    def _add_graphic(self, ev):\n",
    "        \"\"\"\n",
    "        On creation of a new napari layer, will parse the layer type and \n",
    "        add corresponding fastplotlib graphic instance. \n",
    "        \"\"\"\n",
    "        layer_insert_ix = ev.index\n",
    "        if type(self.layers[layer_insert_ix]).__name__ == \"Image\":\n",
    "            print(\"adding image\")\n",
    "            layer = self.layers[layer_insert_ix]\n",
    "            # note: data being added is based on the current 2D slice being viewed\n",
    "            self.plot.add_image(\n",
    "                data=layer._slice.image.view,\n",
    "                name=layer.name, \n",
    "                metadata=layer.metadata,\n",
    "                cmap=layer.colormap.name,\n",
    "                vmin=layer.contrast_limits[0],\n",
    "                vmax=layer.contrast_limits[1],\n",
    "            )\n",
    "        else: # for now only have image implemented\n",
    "            raise NotImplementedError\n",
    "    \n",
    "    def _remove_graphic(self, ev):\n",
    "        \"\"\"\n",
    "        If napari layer removed, will remove corresponding graphic from fpl plot. \n",
    "        \"\"\"\n",
    "        layer_remove_ix = ev.index\n",
    "        graphic = self.plot.graphics[layer_remove_ix]\n",
    "        self.plot.remove_graphic(graphic)\n",
    "        \n",
    "    def _update_sliders(self):\n",
    "        \"\"\"\n",
    "        Generate sliders for all dims not being displayed. \n",
    "        \"\"\"\n",
    "        self.sliders = list()\n",
    "        \n",
    "        dims_not_displayed = list(range(self.dims.ndim))[:-2]\n",
    "        \n",
    "        for dim in dims_not_displayed[::-1]:\n",
    "            slider = IntSlider(value=int(self.dims.point[dim]),\n",
    "                              min=self.dims.range[dim].start,\n",
    "                              max=self.dims.range[dim].stop,\n",
    "                              step=self.dims.range[dim].step)\n",
    "            \n",
    "            # update data based on dim slider values\n",
    "            slider.observe(partial(self._update_point, dim), \"value\")\n",
    "            self.sliders.append(slider)\n",
    "        \n",
    "    def _update_point(self, dim, change):\n",
    "        \"\"\"\n",
    "        Event handler for changes in dim sliders. \n",
    "        \"\"\"\n",
    "        new_val = change[\"new\"]\n",
    "        self.dims.set_point(dim, new_val)\n",
    "        for layer in self.layers:\n",
    "            self.plot[layer.name].data = layer._slice.image.view\n",
    "        \n",
    "    \n",
    "    def _connect_layer_events(self):\n",
    "        \"\"\"\n",
    "        Connect napari layer events to fpl functions. \n",
    "        Must pass position='last' so that napari dims object will get updated\n",
    "        first so data slice is correct. \n",
    "        \"\"\"\n",
    "        # insert layer, add graphic and update sliders\n",
    "        self.layers.events.inserted.connect(self._add_graphic, position=\"last\")\n",
    "        self.layers.events.inserted.connect(self._update_sliders, position=\"last\")\n",
    "        # remove layer, remove graphic and update sliders\n",
    "        self.layers.events.removed.connect(self._remove_graphic)\n",
    "        self.layers.events.removed.connect(self._update_sliders)\n",
    "    \n",
    "    def show(self):\n",
    "        \"\"\"\n",
    "        Return VBox of plot instance and sliders. \n",
    "        \"\"\"\n",
    "        return VBox([self.plot.show(),\n",
    "                     *self.sliders]\n",
    "                   )"
   ]
  },
  {
   "cell_type": "code",
   "execution_count": 10,
   "id": "65ba1bd9-340c-4bbf-b726-7c802713869e",
   "metadata": {
    "tags": []
   },
   "outputs": [],
   "source": [
    "data = np.random.rand(12, 16, 18, 22, 24).astype(np.float32)"
   ]
  },
  {
   "cell_type": "code",
   "execution_count": 11,
   "id": "2a1df60d-2643-4348-9622-32b36a881d90",
   "metadata": {
    "tags": []
   },
   "outputs": [],
   "source": [
    "img = napari.layers.Image(data=data)"
   ]
  },
  {
   "cell_type": "code",
   "execution_count": 12,
   "id": "83e8bb08-fec9-4085-b88d-af1c18264bfe",
   "metadata": {
    "tags": []
   },
   "outputs": [
    {
     "data": {
      "application/vnd.jupyter.widget-view+json": {
       "model_id": "84e420b607df48d0b9d3a9dc2fae2354",
       "version_major": 2,
       "version_minor": 0
      },
      "text/plain": [
       "RFBOutputContext()"
      ]
     },
     "metadata": {},
     "output_type": "display_data"
    }
   ],
   "source": [
    "fpl_view = FplViewer()"
   ]
  },
  {
   "cell_type": "code",
   "execution_count": 13,
   "id": "76ac1b06-6917-40a1-b69e-801daa41b4dc",
   "metadata": {},
   "outputs": [
    {
     "name": "stdout",
     "output_type": "stream",
     "text": [
      "adding image\n"
     ]
    },
    {
     "data": {
      "text/plain": [
       "<Image layer 'data' at 0x138f79ff0>"
      ]
     },
     "execution_count": 13,
     "metadata": {},
     "output_type": "execute_result"
    }
   ],
   "source": [
    "fpl_view.add_image(data)"
   ]
  },
  {
   "cell_type": "code",
   "execution_count": 14,
   "id": "9c88527c-a57b-4861-b7d9-f92dcdb5e369",
   "metadata": {
    "tags": []
   },
   "outputs": [
    {
     "data": {
      "application/vnd.jupyter.widget-view+json": {
       "model_id": "02e30719b0c6473a916be15514a5a59c",
       "version_major": 2,
       "version_minor": 0
      },
      "text/plain": [
       "VBox(children=(VBox(children=(JupyterWgpuCanvas(), HBox(children=(Button(icon='expand-arrows-alt', layout=Layo…"
      ]
     },
     "execution_count": 14,
     "metadata": {},
     "output_type": "execute_result"
    }
   ],
   "source": [
    "fpl_view.show()"
   ]
  },
  {
   "cell_type": "markdown",
   "id": "0d6c2db9",
   "metadata": {},
   "source": []
  },
  {
   "cell_type": "markdown",
   "id": "3ab528a8-5efe-4976-8a2e-9ba0fbb85d28",
   "metadata": {},
   "source": [
    "### Check the fastplotlib points quickstart example runs\n",
    "\n",
    "https://fastplotlib.readthedocs.io/en/latest/quickstart.html#Scatter-plots\n"
   ]
  },
  {
   "cell_type": "code",
   "execution_count": 15,
   "id": "0eefaff5-a681-4df0-9389-36d26336a8cb",
   "metadata": {},
   "outputs": [
    {
     "data": {
      "application/vnd.jupyter.widget-view+json": {
       "model_id": "9f99a576a6bd4c76bf81490a40e994b4",
       "version_major": 2,
       "version_minor": 0
      },
      "text/plain": [
       "RFBOutputContext()"
      ]
     },
     "metadata": {},
     "output_type": "display_data"
    },
    {
     "name": "stderr",
     "output_type": "stream",
     "text": [
      "/Users/genevieb/mambaforge/envs/napari-demo/lib/python3.10/site-packages/fastplotlib/graphics/_features/_base.py:34: UserWarning: converting float64 array to float32\n",
      "  warn(f\"converting {array.dtype} array to float32\")\n"
     ]
    },
    {
     "data": {
      "application/vnd.jupyter.widget-view+json": {
       "model_id": "c47b13b1ee2b45dea30efe49b5dc7145",
       "version_major": 2,
       "version_minor": 0
      },
      "text/plain": [
       "VBox(children=(JupyterWgpuCanvas(), HBox(children=(Button(icon='expand-arrows-alt', layout=Layout(width='auto'…"
      ]
     },
     "execution_count": 15,
     "metadata": {},
     "output_type": "execute_result"
    }
   ],
   "source": [
    "# https://fastplotlib.readthedocs.io/en/latest/quickstart.html#Scatter-plots\n",
    "\n",
    "# create a random distribution\n",
    "# only 1,000 points shown here in the docs, but it can be millions\n",
    "n_points = 1_000\n",
    "\n",
    "# if you have a good GPU go for 1.5 million points :D\n",
    "# this is multiplied by 3\n",
    "#n_points = 500_000\n",
    "\n",
    "# dimensions always have to be [n_points, xyz]\n",
    "dims = (n_points, 3)\n",
    "\n",
    "clouds_offset = 15\n",
    "\n",
    "# create some random clouds\n",
    "normal = np.random.normal(size=dims, scale=5)\n",
    "# stack the data into a single array\n",
    "cloud = np.vstack(\n",
    "    [\n",
    "        normal - clouds_offset,\n",
    "        normal,\n",
    "        normal + clouds_offset,\n",
    "    ]\n",
    ")\n",
    "\n",
    "# color each of them separately\n",
    "colors = [\"yellow\"] * n_points + [\"cyan\"] * n_points + [\"magenta\"] * n_points\n",
    "\n",
    "# create plot\n",
    "plot_s = fpl.Plot()\n",
    "\n",
    "# use an alpha value since this will be a lot of points\n",
    "scatter_graphic = plot_s.add_scatter(data=cloud, sizes=3, colors=colors, alpha=0.7)\n",
    "\n",
    "plot_s.show()"
   ]
  },
  {
   "cell_type": "markdown",
   "id": "d5ac7cfc-1962-44f7-85bd-ccd1c37c1899",
   "metadata": {},
   "source": [
    "### Create a points layer in `napari` and view in `fastplotlib`"
   ]
  },
  {
   "cell_type": "code",
   "execution_count": 16,
   "id": "c9683c33-af9e-4b17-9d81-10eb2e1fb258",
   "metadata": {},
   "outputs": [],
   "source": [
    "napari_points = napari.layers.Points(cloud, size=3, face_color=colors, opacity=0.5)"
   ]
  },
  {
   "cell_type": "markdown",
   "id": "f0e4ed3a-17af-4e0c-838d-f2abc9d16e1a",
   "metadata": {},
   "source": [
    "#### Simple `napari` points using `fastplotlib`\n"
   ]
  },
  {
   "cell_type": "code",
   "execution_count": 17,
   "id": "a4bd322c-37e7-4157-b4b3-597143d07ca2",
   "metadata": {},
   "outputs": [],
   "source": [
    "def points_wrapper(points: napari.layers.Points) -> fpl.graphics.ScatterGraphic:\n",
    "    \"\"\"Return fastplotlib ScatterGraphic based on napari Points layer.\n",
    "    \n",
    "    Parameters\n",
    "    ==========\n",
    "    image: napari.layers.Points\n",
    "        napari Points layer to wrap\n",
    "    \n",
    "    Returns\n",
    "    =======\n",
    "    fpl.graphics.ScatterGraphic\n",
    "    \"\"\"\n",
    "    points_graphic = fpl.graphics.ScatterGraphic(data=points.data, \n",
    "                        name=points.name, \n",
    "                        metadata=points.metadata,\n",
    "                        sizes=points.size.astype(np.float32),\n",
    "                        colors=points.face_color.astype(np.float32),\n",
    "                        alpha=np.array(points.opacity, dtype=np.float32)                                          \n",
    "                       )\n",
    "    \n",
    "    # opacity and point size are not accessible in fastplotlib to connect callbacks :(\n",
    "    # So we'll connect the less exiting boolean visibility parameter\n",
    "    def update_visibility(event):\n",
    "        points_graphic.visible = event.source.visible\n",
    "\n",
    "    # Link napari visibility to update fpl plot\n",
    "    points.events.visible.connect(update_visibility)\n",
    "    \n",
    "    return points_graphic"
   ]
  },
  {
   "cell_type": "code",
   "execution_count": 18,
   "id": "6a0f9608-1a59-4b59-a332-4ae42ed9c2bb",
   "metadata": {},
   "outputs": [
    {
     "data": {
      "application/vnd.jupyter.widget-view+json": {
       "model_id": "66dfa24df4bf40df99f6f7f3049f8c6b",
       "version_major": 2,
       "version_minor": 0
      },
      "text/plain": [
       "RFBOutputContext()"
      ]
     },
     "metadata": {},
     "output_type": "display_data"
    },
    {
     "name": "stderr",
     "output_type": "stream",
     "text": [
      "/Users/genevieb/mambaforge/envs/napari-demo/lib/python3.10/site-packages/fastplotlib/graphics/_features/_base.py:34: UserWarning: converting float64 array to float32\n",
      "  warn(f\"converting {array.dtype} array to float32\")\n"
     ]
    },
    {
     "data": {
      "application/vnd.jupyter.widget-view+json": {
       "model_id": "cbe5201e514b482a8083e7b07e28cf86",
       "version_major": 2,
       "version_minor": 0
      },
      "text/plain": [
       "VBox(children=(JupyterWgpuCanvas(), HBox(children=(Button(icon='expand-arrows-alt', layout=Layout(width='auto'…"
      ]
     },
     "execution_count": 18,
     "metadata": {},
     "output_type": "execute_result"
    }
   ],
   "source": [
    "# create fastplotlib plot instance\n",
    "points_plot = fpl.Plot()\n",
    "\n",
    "# wrap napari image\n",
    "fpl_points = points_wrapper(points=napari_points)\n",
    "\n",
    "# add wrapped image to plot \n",
    "points_plot.add_graphic(fpl_points)\n",
    "\n",
    "# view plot \n",
    "points_plot.show()"
   ]
  },
  {
   "cell_type": "markdown",
   "id": "e8f40b9e-17d5-43ce-81a4-fc7f8e7885b6",
   "metadata": {},
   "source": [
    "#### Update visibility of `napari` points layer"
   ]
  },
  {
   "cell_type": "code",
   "execution_count": 19,
   "id": "46599b26-faf9-445c-bc02-7d0875a2fb5a",
   "metadata": {},
   "outputs": [],
   "source": [
    "napari_points.visible = False"
   ]
  },
  {
   "cell_type": "code",
   "execution_count": 20,
   "id": "92b48f71-a86e-4545-8f37-d3eb3374bcf6",
   "metadata": {},
   "outputs": [],
   "source": [
    "napari_points.visible = True"
   ]
  },
  {
   "cell_type": "markdown",
   "id": "e0c5ec29-1f51-4543-bd0e-3d22896a1c9b",
   "metadata": {},
   "source": [
    "### Extend `fastplotlib` viewer wrapping `napari` viewer to include points"
   ]
  },
  {
   "cell_type": "code",
   "execution_count": 21,
   "id": "14e7c449-b0e4-4187-961b-705ee4c71d4e",
   "metadata": {},
   "outputs": [],
   "source": [
    "def _add_graphic(self, ev):\n",
    "    \"\"\"\n",
    "    On creation of a new napari layer, will parse the layer type and \n",
    "    add corresponding fastplotlib graphic instance. \n",
    "    \"\"\"\n",
    "    layer_insert_ix = ev.index\n",
    "    if type(self.layers[layer_insert_ix]).__name__ == \"Image\":\n",
    "        print(\"adding image\")\n",
    "        layer = self.layers[layer_insert_ix]\n",
    "        # note: data being added is based on the current 2D slice being viewed\n",
    "        self.plot.add_image(\n",
    "            data=layer._slice.image.view,\n",
    "            name=layer.name, \n",
    "            metadata=layer.metadata,\n",
    "            cmap=layer.colormap.name,\n",
    "            vmin=layer.contrast_limits[0],\n",
    "            vmax=layer.contrast_limits[1],\n",
    "        )\n",
    "    if type(self.layers[layer_insert_ix]).__name__ == \"Points\":\n",
    "        print(\"Adding points\")\n",
    "        layer = self.layers[layer_insert_ix]\n",
    "        # note: data being added is based on the current 2D slice being viewed\n",
    "        self.plot.add_scatter(\n",
    "            data=layer._view_data,\n",
    "            name=layer.name,\n",
    "            metadata=layer.metadata,\n",
    "            sizes=layer._view_size,\n",
    "            colors=layer._view_face_color,\n",
    "            alpha=layer.opacity,                                                      \n",
    "        )\n",
    "    else: # for now only have image implemented\n",
    "        raise NotImplementedError\n",
    "\n",
    "\n",
    "def _update_point(self, dim, change):\n",
    "    \"\"\"\n",
    "    Event handler for changes in dim sliders. \n",
    "    \"\"\"\n",
    "    new_val = change[\"new\"]\n",
    "    self.dims.set_point(dim, new_val)\n",
    "    for layer in self.layers:\n",
    "        self.plot[layer.name].data = layer._view_data\n",
    "\n",
    "FplViewer._add_graphic = _add_graphic\n",
    "FplViewer._update_point = _update_point\n"
   ]
  },
  {
   "cell_type": "code",
   "execution_count": 22,
   "id": "30a41f83-361c-47db-a221-89c6c9d2ec12",
   "metadata": {},
   "outputs": [
    {
     "name": "stdout",
     "output_type": "stream",
     "text": [
      "(250, 3)\n",
      "[[0.        0.2709095 6.161419 ]\n",
      " [0.        4.4294534 1.9165218]\n",
      " [0.        4.6046276 1.0556118]\n",
      " [0.        9.920743  2.5679748]\n",
      " [0.        6.2964187 5.085389 ]]\n",
      "...\n",
      "[[4.         7.0594187  6.5985804 ]\n",
      " [4.         0.21802871 1.2755091 ]\n",
      " [4.         2.1736236  6.0190997 ]\n",
      " [4.         6.515993   4.4066334 ]\n",
      " [4.         9.196809   6.6120734 ]]\n"
     ]
    }
   ],
   "source": [
    "n_test_points = 50\n",
    "test_point_data = None\n",
    "for sl in range(5):\n",
    "    random_points = np.random.random(size=(n_test_points,2)) * 10\n",
    "    z_slice_idx = np.ones((n_test_points, 1)) * sl\n",
    "    random_points = np.hstack((z_slice_idx, random_points))\n",
    "    if test_point_data is None:\n",
    "        test_point_data = random_points\n",
    "    else:\n",
    "        test_point_data = np.vstack((test_point_data, random_points))\n",
    "\n",
    "test_point_data = test_point_data.astype(np.float32)\n",
    "\n",
    "print(test_point_data.shape)\n",
    "print(test_point_data[:5])\n",
    "print(\"...\")\n",
    "print(test_point_data[-5:])\n"
   ]
  },
  {
   "cell_type": "code",
   "execution_count": 23,
   "id": "168b9feb-946d-41a5-b31c-8c6efa9ce696",
   "metadata": {},
   "outputs": [
    {
     "data": {
      "text/plain": [
       "<Points layer 'test_point_data' at 0x105a93fd0>"
      ]
     },
     "execution_count": 23,
     "metadata": {},
     "output_type": "execute_result"
    }
   ],
   "source": [
    "import napari\n",
    "\n",
    "viewer = napari.Viewer()\n",
    "viewer.add_points(test_point_data)"
   ]
  },
  {
   "cell_type": "code",
   "execution_count": 40,
   "id": "a30a410d-1358-432a-bb0f-449a48248e93",
   "metadata": {},
   "outputs": [],
   "source": [
    "del fpl_view_2"
   ]
  },
  {
   "cell_type": "code",
   "execution_count": 41,
   "id": "073c4a16-0c10-43aa-b598-39abb6c5d015",
   "metadata": {},
   "outputs": [
    {
     "data": {
      "application/vnd.jupyter.widget-view+json": {
       "model_id": "65804754c793492e98dd63a29ab46484",
       "version_major": 2,
       "version_minor": 0
      },
      "text/plain": [
       "RFBOutputContext()"
      ]
     },
     "metadata": {},
     "output_type": "display_data"
    }
   ],
   "source": [
    "fpl_view_2 = FplViewer()"
   ]
  },
  {
   "cell_type": "code",
   "execution_count": 45,
   "id": "7f7ba234-e951-492a-bcf0-75e78eabe9e0",
   "metadata": {},
   "outputs": [
    {
     "name": "stdout",
     "output_type": "stream",
     "text": [
      "Adding points\n"
     ]
    },
    {
     "name": "stderr",
     "output_type": "stream",
     "text": [
      "/Users/genevieb/mambaforge/envs/napari-demo/lib/python3.10/site-packages/fastplotlib/graphics/_features/_base.py:34: UserWarning: converting float64 array to float32\n",
      "  warn(f\"converting {array.dtype} array to float32\")\n"
     ]
    },
    {
     "data": {
      "text/plain": [
       "<Points layer 'test_point_data' at 0x169834820>"
      ]
     },
     "execution_count": 45,
     "metadata": {},
     "output_type": "execute_result"
    }
   ],
   "source": [
    "fpl_view_2.add_points(test_point_data, size=20)#, face_color=colors, opacity=0.7)"
   ]
  },
  {
   "cell_type": "code",
   "execution_count": 37,
   "id": "82166407-35a4-4b00-8890-f0b649d85b8e",
   "metadata": {},
   "outputs": [
    {
     "data": {
      "text/plain": [
       "(100, 100)"
      ]
     },
     "execution_count": 37,
     "metadata": {},
     "output_type": "execute_result"
    }
   ],
   "source": [
    "rand_2d.shape"
   ]
  },
  {
   "cell_type": "code",
   "execution_count": 44,
   "id": "4144ec4d-5055-422c-ba2a-c73b43356034",
   "metadata": {},
   "outputs": [],
   "source": [
    "# rand_2d = np.random.random((100,100)) * 10\n",
    "rand_2d = np.array([[1,1],[2,2],[3,3]], dtype=np.float32)\n",
    "var = fpl_view_2.plot.add_scatter(rand_2d, sizes=20)"
   ]
  },
  {
   "cell_type": "code",
   "execution_count": 43,
   "id": "a3d20458-8d6e-49e5-b060-cbfa9e901584",
   "metadata": {},
   "outputs": [
    {
     "data": {
      "application/vnd.jupyter.widget-view+json": {
       "model_id": "4ac34160434a4ebcaef10873af4b5ad4",
       "version_major": 2,
       "version_minor": 0
      },
      "text/plain": [
       "VBox(children=(VBox(children=(JupyterWgpuCanvas(), HBox(children=(Button(icon='expand-arrows-alt', layout=Layo…"
      ]
     },
     "execution_count": 43,
     "metadata": {},
     "output_type": "execute_result"
    }
   ],
   "source": [
    "fpl_view_2.show()"
   ]
  },
  {
   "cell_type": "code",
   "execution_count": 47,
   "id": "4655c5fd-fd8a-444a-a8bf-998b193219a7",
   "metadata": {},
   "outputs": [],
   "source": [
    "var.visible = False"
   ]
  },
  {
   "cell_type": "code",
   "execution_count": null,
   "id": "34260e3f-7cfe-4182-ac7a-3672816c31b6",
   "metadata": {},
   "outputs": [],
   "source": []
  },
  {
   "cell_type": "markdown",
   "id": "e7607b57-b5a0-4148-869e-3533e03b15a5",
   "metadata": {},
   "source": [
    "## Notes\n",
    "\n",
    "* 3d volumes not supported by fastplotlib\n",
    "* Very few parameters are accessible in fastplotlib to hook callbacks up to (eg: point size, opacity, etc.)\n",
    "* fastplotlib is much slower and less responsive on my M1 mac than I expected. (I do have `brew install\n",
    "* Problems when fastplotlib tries to show a scatter plot with no points, or scrolling through a scatter plot with a varying number of points per z slice"
   ]
  },
  {
   "cell_type": "code",
   "execution_count": null,
   "id": "ee9d4738-b8c6-4769-b5e2-7ef09398d281",
   "metadata": {},
   "outputs": [],
   "source": []
  }
 ],
 "metadata": {
  "kernelspec": {
   "display_name": "Python 3 (ipykernel)",
   "language": "python",
   "name": "python3"
  },
  "language_info": {
   "codemirror_mode": {
    "name": "ipython",
    "version": 3
   },
   "file_extension": ".py",
   "mimetype": "text/x-python",
   "name": "python",
   "nbconvert_exporter": "python",
   "pygments_lexer": "ipython3",
   "version": "3.10.12"
  }
 },
 "nbformat": 4,
 "nbformat_minor": 5
}
