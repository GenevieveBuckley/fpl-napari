{
 "cells": [
  {
   "cell_type": "code",
   "execution_count": 1,
   "id": "3c1bf8f4-4f96-4fce-a8ff-6d4b20186aa0",
   "metadata": {
    "tags": []
   },
   "outputs": [],
   "source": [
    "import fastplotlib as fpl\n",
    "import napari"
   ]
  },
  {
   "cell_type": "code",
   "execution_count": 2,
   "id": "87065858-1a78-429c-bf43-810d61afb350",
   "metadata": {
    "tags": []
   },
   "outputs": [],
   "source": [
    "from napari.layers import Image\n",
    "from fastplotlib.graphics import ImageGraphic\n",
    "from fastplotlib.graphics._base import Graphic"
   ]
  },
  {
   "cell_type": "code",
   "execution_count": 3,
   "id": "c8d1749c-dfe9-49f7-97a2-a288e7864ac9",
   "metadata": {
    "tags": []
   },
   "outputs": [],
   "source": [
    "import numpy as np"
   ]
  },
  {
   "cell_type": "code",
   "execution_count": 4,
   "id": "4f26aea9-0dc9-4641-84f8-5222d004196a",
   "metadata": {
    "tags": []
   },
   "outputs": [],
   "source": [
    "data = np.random.rand(512, 512)"
   ]
  },
  {
   "cell_type": "code",
   "execution_count": 5,
   "id": "b40145d7-b2dc-47bc-b297-ea594e6dcea3",
   "metadata": {
    "tags": []
   },
   "outputs": [],
   "source": [
    "img = Image(data=data)"
   ]
  },
  {
   "cell_type": "code",
   "execution_count": 6,
   "id": "d8648fd2-7ac6-4441-a919-eb58115735ca",
   "metadata": {
    "tags": []
   },
   "outputs": [
    {
     "data": {
      "text/plain": [
       "[2.427121624237749e-06, 0.9999977274652415]"
      ]
     },
     "execution_count": 6,
     "metadata": {},
     "output_type": "execute_result"
    }
   ],
   "source": [
    "img.contrast_limits"
   ]
  },
  {
   "cell_type": "code",
   "execution_count": 7,
   "id": "0309e581-ab0f-4e25-8048-43de4ca70294",
   "metadata": {
    "tags": []
   },
   "outputs": [
    {
     "data": {
      "text/plain": [
       "'gray'"
      ]
     },
     "execution_count": 7,
     "metadata": {},
     "output_type": "execute_result"
    }
   ],
   "source": [
    "img.colormap.name"
   ]
  },
  {
   "cell_type": "code",
   "execution_count": 8,
   "id": "aff73246-15e1-499d-a8c3-03ce7dc1199c",
   "metadata": {
    "tags": []
   },
   "outputs": [],
   "source": [
    "def image_wrapper(image: Image) -> ImageGraphic:\n",
    "    data = image.data\n",
    "    name = image.name\n",
    "    metadata = image.metadata\n",
    "    cmap = image.colormap.name\n",
    "    vmin = image.contrast_limits[0]\n",
    "    vmax = image.contrast_limits[1]\n",
    "\n",
    "    image_graphic = ImageGraphic(data=data, \n",
    "                        name=name, \n",
    "                        metadata=metadata,\n",
    "                        cmap=cmap,\n",
    "                        vmin=vmin,\n",
    "                        vmax=vmax\n",
    "                       )\n",
    "    def update_vmin_vmax(ev):\n",
    "        #print(dir(ev))\n",
    "        image_graphic.cmap.vmin, image_graphic.cmap.vmax = ev.source.contrast_limits\n",
    "        \n",
    "    img.events.contrast_limits.connect(update_vmin_vmax)\n",
    "    \n",
    "    return image_graphic"
   ]
  },
  {
   "cell_type": "code",
   "execution_count": 9,
   "id": "eba5fc02-286d-424b-ad04-f97c6705f0e9",
   "metadata": {
    "tags": []
   },
   "outputs": [
    {
     "data": {
      "application/vnd.jupyter.widget-view+json": {
       "model_id": "195f791b739348048e736506d54c63d3",
       "version_major": 2,
       "version_minor": 0
      },
      "text/plain": [
       "RFBOutputContext()"
      ]
     },
     "metadata": {},
     "output_type": "display_data"
    }
   ],
   "source": [
    "plot2 = fpl.Plot()"
   ]
  },
  {
   "cell_type": "code",
   "execution_count": 10,
   "id": "503b3d25-b0c5-48ce-ad8a-a031a714a4ca",
   "metadata": {
    "tags": []
   },
   "outputs": [
    {
     "name": "stderr",
     "output_type": "stream",
     "text": [
      "/home/clewis7/repos/fastplotlib/fastplotlib/graphics/_features/_base.py:34: UserWarning: converting float64 array to float32\n",
      "  warn(f\"converting {array.dtype} array to float32\")\n"
     ]
    }
   ],
   "source": [
    "img2 = image_wrapper(image=img)"
   ]
  },
  {
   "cell_type": "code",
   "execution_count": 11,
   "id": "e073f409-8178-461f-a633-c95a46f276fb",
   "metadata": {
    "tags": []
   },
   "outputs": [],
   "source": [
    "plot2.add_graphic(img2)"
   ]
  },
  {
   "cell_type": "code",
   "execution_count": 12,
   "id": "1ef947b3-388e-4430-8add-45526397b0cb",
   "metadata": {
    "tags": []
   },
   "outputs": [
    {
     "data": {
      "application/vnd.jupyter.widget-view+json": {
       "model_id": "aee86e8623d14ec0b95f78676443ccc6",
       "version_major": 2,
       "version_minor": 0
      },
      "text/plain": [
       "VBox(children=(JupyterWgpuCanvas(), HBox(children=(Button(icon='expand-arrows-alt', layout=Layout(width='auto'…"
      ]
     },
     "execution_count": 12,
     "metadata": {},
     "output_type": "execute_result"
    }
   ],
   "source": [
    "plot2.show()"
   ]
  },
  {
   "cell_type": "code",
   "execution_count": 13,
   "id": "c05752c3-8cdd-4c77-b38c-c52fbad57238",
   "metadata": {
    "tags": []
   },
   "outputs": [],
   "source": [
    "img.contrast_limits = (0, 0.5)"
   ]
  },
  {
   "cell_type": "code",
   "execution_count": 126,
   "id": "b23ebbbe-1804-4a22-bf80-72b32de60667",
   "metadata": {
    "tags": []
   },
   "outputs": [],
   "source": [
    "data = np.random.rand(12, 16, 18, 22, 24)"
   ]
  },
  {
   "cell_type": "code",
   "execution_count": 127,
   "id": "65ab17ff-6507-4343-b33a-0e7b0ff95b7a",
   "metadata": {
    "tags": []
   },
   "outputs": [],
   "source": [
    "img = Image(data=data)"
   ]
  },
  {
   "cell_type": "code",
   "execution_count": 128,
   "id": "e436ad83-9cbe-4e4f-a948-5822f15fd1f8",
   "metadata": {
    "tags": []
   },
   "outputs": [],
   "source": [
    "dims = napari.components.Dims()"
   ]
  },
  {
   "cell_type": "code",
   "execution_count": 129,
   "id": "2b328b5b-cc1b-4e58-a131-cf7aa3364e2b",
   "metadata": {
    "tags": []
   },
   "outputs": [
    {
     "data": {
      "text/plain": [
       "<Image layer 'data' at 0x7fd8082c7050>"
      ]
     },
     "execution_count": 129,
     "metadata": {},
     "output_type": "execute_result"
    }
   ],
   "source": [
    "img"
   ]
  },
  {
   "cell_type": "code",
   "execution_count": 130,
   "id": "e938fa78-6b30-4385-acc7-177b0beaaf33",
   "metadata": {
    "tags": []
   },
   "outputs": [
    {
     "data": {
      "text/plain": [
       "Dims(ndim=2, ndisplay=2, order=(0, 1), axis_labels=('0', '1'), range=(RangeTuple(start=0.0, stop=2.0, step=1.0), RangeTuple(start=0.0, stop=2.0, step=1.0)), margin_left=(0.0, 0.0), margin_right=(0.0, 0.0), point=(0.0, 0.0), last_used=0)"
      ]
     },
     "execution_count": 130,
     "metadata": {},
     "output_type": "execute_result"
    }
   ],
   "source": [
    "dims"
   ]
  },
  {
   "cell_type": "code",
   "execution_count": 131,
   "id": "f70e8028-0b31-479c-94d6-54ec4b9193f3",
   "metadata": {
    "tags": []
   },
   "outputs": [],
   "source": [
    "from ipywidgets import IntSlider, VBox"
   ]
  },
  {
   "cell_type": "code",
   "execution_count": 132,
   "id": "8301769a-8440-4c66-8214-4869734e4b6d",
   "metadata": {
    "tags": []
   },
   "outputs": [],
   "source": [
    "from functools import partial"
   ]
  },
  {
   "cell_type": "code",
   "execution_count": 133,
   "id": "c46b0478-47ea-4a7f-b486-ebb0572319bd",
   "metadata": {
    "tags": []
   },
   "outputs": [],
   "source": [
    "class FplViewer(napari.components.ViewerModel):\n",
    "    plot: fpl.Plot = None\n",
    "    sliders: list = None\n",
    "    def __init__(\n",
    "                self,\n",
    "                *args,\n",
    "                **kwargs):\n",
    "        super().__init__(**kwargs)\n",
    "        \n",
    "        self.plot = fpl.Plot()\n",
    "        \n",
    "        self.sliders = list()\n",
    "        self._connect_layer_events()\n",
    "    \n",
    "    def _add_graphic(self, ev):\n",
    "        # parse graphic to add\n",
    "        layer_insert_ix = ev.index\n",
    "        print(self.dims)\n",
    "        if type(self.layers[layer_insert_ix]).__name__ == \"Image\":\n",
    "            print(\"adding image\")\n",
    "            layer = self.layers[layer_insert_ix]\n",
    "            self.plot.add_image(\n",
    "                data=layer._slice.image.view,\n",
    "                name=layer.name, \n",
    "                metadata=layer.metadata,\n",
    "                cmap=layer.colormap.name,\n",
    "                vmin=layer.contrast_limits[0],\n",
    "                vmax=layer.contrast_limits[1],\n",
    "            )\n",
    "            print(self.dims)\n",
    "        else:\n",
    "            raise NotImplementedError\n",
    "        \n",
    "        #self._update_sliders()\n",
    "    \n",
    "    def _remove_graphic(self, ev):\n",
    "        layer_remove_ix = ev.index\n",
    "        graphic = self.plot.graphics[layer_remove_ix]\n",
    "        self.plot.remove_graphic(graphic)\n",
    "        \n",
    "    def _update_sliders(self):\n",
    "        self.sliders = list()\n",
    "        \n",
    "        dims_not_displayed = list(range(self.dims.ndim))[:-2]\n",
    "        \n",
    "        for dim in dims_not_displayed[::-1]:\n",
    "            slider = IntSlider(value=int(self.dims.point[dim]),\n",
    "                              min=self.dims.range[dim].start,\n",
    "                              max=self.dims.range[dim].stop,\n",
    "                              step=self.dims.range[dim].step)\n",
    "            \n",
    "            slider.observe(partial(self._update_point, dim), \"value\")\n",
    "            self.sliders.append(slider)\n",
    "        \n",
    "    def _update_point(self, dim, change):\n",
    "        new_val = change[\"new\"]\n",
    "        self.dims.set_point(dim, new_val)\n",
    "        for layer in self.layers:\n",
    "            self.plot[layer.name].data = layer._slice.image.view\n",
    "        \n",
    "    \n",
    "    def _connect_layer_events(self):\n",
    "        self.layers.events.inserted.connect(self._add_graphic, position=\"last\")\n",
    "        self.layers.events.inserted.connect(self._update_sliders, position=\"last\")\n",
    "        self.layers.events.removed.connect(self._remove_graphic)\n",
    "        self.layers.events.removed.connect(self._update_sliders)\n",
    "    \n",
    "    def _connect_dims_events(self):\n",
    "        pass\n",
    "    \n",
    "    def show(self):\n",
    "        return VBox([self.plot.show(),\n",
    "                     *self.sliders]\n",
    "                   )"
   ]
  },
  {
   "cell_type": "code",
   "execution_count": 134,
   "id": "83e8bb08-fec9-4085-b88d-af1c18264bfe",
   "metadata": {
    "tags": []
   },
   "outputs": [
    {
     "data": {
      "application/vnd.jupyter.widget-view+json": {
       "model_id": "cb0317e1c914424db441d9d659d3db71",
       "version_major": 2,
       "version_minor": 0
      },
      "text/plain": [
       "RFBOutputContext()"
      ]
     },
     "metadata": {},
     "output_type": "display_data"
    }
   ],
   "source": [
    "fpl_view = FplViewer()"
   ]
  },
  {
   "cell_type": "code",
   "execution_count": 135,
   "id": "76ac1b06-6917-40a1-b69e-801daa41b4dc",
   "metadata": {},
   "outputs": [
    {
     "name": "stdout",
     "output_type": "stream",
     "text": [
      "ndim=5 ndisplay=2 order=(0, 1, 2, 3, 4) axis_labels=('0', '1', '2', '3', '4') range=(RangeTuple(start=0.0, stop=11.0, step=1.0), RangeTuple(start=0.0, stop=15.0, step=1.0), RangeTuple(start=0.0, stop=17.0, step=1.0), RangeTuple(start=0.0, stop=21.0, step=1.0), RangeTuple(start=0.0, stop=23.0, step=1.0)) margin_left=(0.0, 0.0, 0.0, 0.0, 0.0) margin_right=(0.0, 0.0, 0.0, 0.0, 0.0) point=(5.0, 7.0, 8.0, 10.0, 11.0) last_used=0\n",
      "adding image\n",
      "ndim=5 ndisplay=2 order=(0, 1, 2, 3, 4) axis_labels=('0', '1', '2', '3', '4') range=(RangeTuple(start=0.0, stop=11.0, step=1.0), RangeTuple(start=0.0, stop=15.0, step=1.0), RangeTuple(start=0.0, stop=17.0, step=1.0), RangeTuple(start=0.0, stop=21.0, step=1.0), RangeTuple(start=0.0, stop=23.0, step=1.0)) margin_left=(0.0, 0.0, 0.0, 0.0, 0.0) margin_right=(0.0, 0.0, 0.0, 0.0, 0.0) point=(5.0, 7.0, 8.0, 10.0, 11.0) last_used=0\n"
     ]
    },
    {
     "name": "stderr",
     "output_type": "stream",
     "text": [
      "/home/clewis7/repos/fastplotlib/fastplotlib/graphics/_features/_base.py:34: UserWarning: converting float64 array to float32\n",
      "  warn(f\"converting {array.dtype} array to float32\")\n"
     ]
    },
    {
     "data": {
      "text/plain": [
       "<Image layer 'data' at 0x7fd8082c7250>"
      ]
     },
     "execution_count": 135,
     "metadata": {},
     "output_type": "execute_result"
    }
   ],
   "source": [
    "fpl_view.add_image(data)"
   ]
  },
  {
   "cell_type": "code",
   "execution_count": 136,
   "id": "9c88527c-a57b-4861-b7d9-f92dcdb5e369",
   "metadata": {
    "tags": []
   },
   "outputs": [
    {
     "data": {
      "application/vnd.jupyter.widget-view+json": {
       "model_id": "f95dcaab15684d34bb2a68735be99a04",
       "version_major": 2,
       "version_minor": 0
      },
      "text/plain": [
       "VBox(children=(VBox(children=(JupyterWgpuCanvas(), HBox(children=(Button(icon='expand-arrows-alt', layout=Layo…"
      ]
     },
     "execution_count": 136,
     "metadata": {},
     "output_type": "execute_result"
    }
   ],
   "source": [
    "fpl_view.show()"
   ]
  },
  {
   "cell_type": "code",
   "execution_count": 83,
   "id": "d382061f-1c27-4131-a6e4-fd3febec3f4a",
   "metadata": {
    "tags": []
   },
   "outputs": [
    {
     "data": {
      "text/plain": [
       "((<weakref at 0x7fd80a9cc680; to 'FplViewer' at 0x7fd80aa83bd0>,\n",
       "  '_add_graphic'),\n",
       " (<weakref at 0x7fd80a9cc680; to 'FplViewer' at 0x7fd80aa83bd0>,\n",
       "  '_on_add_layer'))"
      ]
     },
     "execution_count": 83,
     "metadata": {},
     "output_type": "execute_result"
    }
   ],
   "source": [
    "fpl_view.layers.events.inserted.callbacks"
   ]
  },
  {
   "cell_type": "code",
   "execution_count": 79,
   "id": "2e8e36b6-f107-4b6a-9df1-28b551bb94d2",
   "metadata": {
    "tags": []
   },
   "outputs": [
    {
     "data": {
      "text/plain": [
       "array([[[0.37185324, 0.80148295, 0.83298898, ..., 0.44304116,\n",
       "         0.29954418, 0.01195732],\n",
       "        [0.48310552, 0.86980409, 0.16189922, ..., 0.0700376 ,\n",
       "         0.40806886, 0.43373978],\n",
       "        [0.02139306, 0.48878722, 0.56990265, ..., 0.62712702,\n",
       "         0.32751719, 0.76502095],\n",
       "        ...,\n",
       "        [0.72207004, 0.71520886, 0.33093651, ..., 0.12306302,\n",
       "         0.05436172, 0.28599215],\n",
       "        [0.3400389 , 0.643539  , 0.7033658 , ..., 0.35260615,\n",
       "         0.39878405, 0.67037841],\n",
       "        [0.08288548, 0.37085233, 0.30960618, ..., 0.84602274,\n",
       "         0.15659999, 0.25223289]],\n",
       "\n",
       "       [[0.44470302, 0.00833546, 0.00855313, ..., 0.77950297,\n",
       "         0.92194599, 0.0542394 ],\n",
       "        [0.39696722, 0.18842611, 0.4241916 , ..., 0.38837973,\n",
       "         0.42978768, 0.28127854],\n",
       "        [0.88591269, 0.9838238 , 0.13045192, ..., 0.76590735,\n",
       "         0.37193117, 0.65982193],\n",
       "        ...,\n",
       "        [0.08875013, 0.29311482, 0.95130337, ..., 0.50610968,\n",
       "         0.25004579, 0.92486655],\n",
       "        [0.98508832, 0.98370007, 0.06722512, ..., 0.10710065,\n",
       "         0.34147924, 0.77769147],\n",
       "        [0.10059418, 0.71907191, 0.0782688 , ..., 0.48076484,\n",
       "         0.35154602, 0.70646514]],\n",
       "\n",
       "       [[0.21022517, 0.14698896, 0.53041328, ..., 0.88924269,\n",
       "         0.05855887, 0.6516441 ],\n",
       "        [0.81212428, 0.32467746, 0.48772748, ..., 0.06667981,\n",
       "         0.73565054, 0.35504622],\n",
       "        [0.18540705, 0.39747337, 0.8654453 , ..., 0.81927847,\n",
       "         0.03991758, 0.03156739],\n",
       "        ...,\n",
       "        [0.89472235, 0.70497725, 0.17216809, ..., 0.13043306,\n",
       "         0.01724994, 0.0804003 ],\n",
       "        [0.33072162, 0.43418553, 0.65947455, ..., 0.02456624,\n",
       "         0.31693319, 0.63133021],\n",
       "        [0.3431342 , 0.25315528, 0.18093992, ..., 0.21894233,\n",
       "         0.51186139, 0.1133628 ]],\n",
       "\n",
       "       [[0.78015664, 0.76226686, 0.14903126, ..., 0.20022722,\n",
       "         0.66384739, 0.8223522 ],\n",
       "        [0.06918353, 0.42001197, 0.21324463, ..., 0.32372267,\n",
       "         0.55041589, 0.46415068],\n",
       "        [0.07934068, 0.42856276, 0.7811707 , ..., 0.60021796,\n",
       "         0.18719148, 0.78559374],\n",
       "        ...,\n",
       "        [0.0443199 , 0.6350147 , 0.89715553, ..., 0.56952276,\n",
       "         0.00157383, 0.9471901 ],\n",
       "        [0.62402554, 0.72911544, 0.53921724, ..., 0.20909828,\n",
       "         0.9096954 , 0.70389111],\n",
       "        [0.64590503, 0.61356916, 0.92206629, ..., 0.66443643,\n",
       "         0.16249605, 0.12963161]],\n",
       "\n",
       "       [[0.03174179, 0.8913189 , 0.75981203, ..., 0.72639504,\n",
       "         0.30795807, 0.36798766],\n",
       "        [0.48585838, 0.1549886 , 0.70557367, ..., 0.67679558,\n",
       "         0.04013922, 0.34882816],\n",
       "        [0.19315839, 0.72504651, 0.58410914, ..., 0.62145347,\n",
       "         0.42738774, 0.7284366 ],\n",
       "        ...,\n",
       "        [0.01281932, 0.62621996, 0.7170178 , ..., 0.66260279,\n",
       "         0.22164194, 0.84131931],\n",
       "        [0.4407929 , 0.59853926, 0.07880288, ..., 0.39228618,\n",
       "         0.87020787, 0.65953079],\n",
       "        [0.63338302, 0.7566378 , 0.6438122 , ..., 0.29385893,\n",
       "         0.62066753, 0.85557957]]])"
      ]
     },
     "execution_count": 79,
     "metadata": {},
     "output_type": "execute_result"
    }
   ],
   "source": [
    "data[::-2]"
   ]
  },
  {
   "cell_type": "code",
   "execution_count": null,
   "id": "5f114d8a-1952-4df2-884e-dae382be8587",
   "metadata": {},
   "outputs": [],
   "source": []
  }
 ],
 "metadata": {
  "kernelspec": {
   "display_name": "Python 3 (ipykernel)",
   "language": "python",
   "name": "python3"
  },
  "language_info": {
   "codemirror_mode": {
    "name": "ipython",
    "version": 3
   },
   "file_extension": ".py",
   "mimetype": "text/x-python",
   "name": "python",
   "nbconvert_exporter": "python",
   "pygments_lexer": "ipython3",
   "version": "3.11.3"
  }
 },
 "nbformat": 4,
 "nbformat_minor": 5
}
